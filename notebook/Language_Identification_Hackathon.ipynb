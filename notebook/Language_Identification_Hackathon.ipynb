{
 "cells": [
  {
   "cell_type": "markdown",
   "metadata": {
    "id": "5X2zoFEKij4k"
   },
   "source": [
    "## Importing libraries and dataset\n",
    "So let’s get started. First of all, we will import all the required libraries."
   ]
  },
  {
   "cell_type": "code",
   "execution_count": 18,
   "metadata": {
    "id": "5k2zjnCAij4o"
   },
   "outputs": [],
   "source": [
    "import pandas as pd\n",
    "import numpy as np\n",
    "import re\n",
    "import seaborn as sns\n",
    "import matplotlib.pyplot as plt\n",
    "import warnings\n",
    "warnings.simplefilter(\"ignore\")\n",
    "\n",
    "# Preprocessing\n",
    "from collections import Counter\n",
    "from nltk.probability import FreqDist\n",
    "from nltk.tokenize import word_tokenize\n",
    "from nltk.stem import WordNetLemmatizer \n",
    "from nltk.corpus import stopwords, wordnet  \n",
    "from sklearn.feature_extraction.text import CountVectorizer   \n",
    "from sklearn.feature_extraction.text import TfidfVectorizer\n",
    "from sklearn.feature_extraction.text import TfidfTransformer \n",
    "from sklearn.model_selection import train_test_split, RandomizedSearchCV\n",
    "\n",
    "# Building classification models\n",
    "from sklearn.svm import LinearSVC\n",
    "from sklearn.pipeline import Pipeline\n",
    "from sklearn.naive_bayes import MultinomialNB\n",
    "from sklearn.neighbors import KNeighborsClassifier\n",
    "from sklearn.ensemble import RandomForestClassifier\n",
    "from sklearn.linear_model import LogisticRegression\n",
    "\n",
    "# Model evaluation\n",
    "from sklearn import metrics\n",
    "from sklearn.metrics import classification_report, confusion_matrix, f1_score, precision_score, recall_score"
   ]
  },
  {
   "cell_type": "markdown",
   "metadata": {
    "id": "VAvf8xVBij4q"
   },
   "source": [
    "###Import datasets"
   ]
  },
  {
   "cell_type": "code",
   "execution_count": 19,
   "metadata": {
    "id": "EnoNGIrJij4r"
   },
   "outputs": [],
   "source": [
    "train_data = pd.read_csv(r'C:\\Users\\HP\\Downloads\\language-identification\\train_set.csv')\n",
    "test_data = pd.read_csv(r'C:\\Users\\HP\\Downloads\\language-identification\\test_set.csv')"
   ]
  },
  {
   "cell_type": "markdown",
   "metadata": {
    "id": "J8-Ckz2mij4t"
   },
   "source": [
    "#### counting the value count for each language"
   ]
  },
  {
   "cell_type": "code",
   "execution_count": 20,
   "metadata": {
    "colab": {
     "base_uri": "https://localhost:8080/"
    },
    "id": "Nt6yqqWgij4t",
    "outputId": "dd78732e-4f73-4d00-be42-41c3560e3ad1"
   },
   "outputs": [
    {
     "data": {
      "text/plain": [
       "sot    3000\n",
       "nbl    3000\n",
       "xho    3000\n",
       "tsn    3000\n",
       "zul    3000\n",
       "afr    3000\n",
       "nso    3000\n",
       "ven    3000\n",
       "ssw    3000\n",
       "tso    3000\n",
       "eng    3000\n",
       "Name: lang_id, dtype: int64"
      ]
     },
     "execution_count": 20,
     "metadata": {},
     "output_type": "execute_result"
    }
   ],
   "source": [
    "train_data[\"lang_id\"].value_counts()"
   ]
  },
  {
   "cell_type": "markdown",
   "metadata": {
    "id": "EXs_V2VNij4u"
   },
   "source": [
    "#### Separating Independent and Dependent features"
   ]
  },
  {
   "cell_type": "code",
   "execution_count": 21,
   "metadata": {
    "id": "BLTXP0bIij4v"
   },
   "outputs": [],
   "source": [
    "X = train_data[\"text\"]\n",
    "y = train_data[\"lang_id\"]"
   ]
  },
  {
   "cell_type": "markdown",
   "metadata": {
    "id": "o3LOFwn-ij4x"
   },
   "source": [
    "#### Text Preprocessing"
   ]
  },
  {
   "cell_type": "code",
   "execution_count": 22,
   "metadata": {
    "id": "Z_1Bgtx9ij4y"
   },
   "outputs": [],
   "source": [
    "def clean_text(df):\n",
    "  item = 0\n",
    "  for txt in df['text']:\n",
    "    txt = txt .lower()\n",
    "    txt = re.sub(r'[^\\w\\s]', '', txt)\n",
    "    txt = re.sub(r'\\d+', '', txt)\n",
    "    txt = re.sub(r'\\s\\s+', ' ', txt)\n",
    "    txt = txt.lstrip(' ')  \n",
    "    txt = txt.lstrip()\n",
    "    txt = txt.rstrip()\n",
    "    txt = txt.replace('  ', ' ')\n",
    "    df.loc[item, 'text'] = txt\n",
    "    item += 1"
   ]
  },
  {
   "cell_type": "code",
   "execution_count": 23,
   "metadata": {
    "id": "ybh9mLCulBiR"
   },
   "outputs": [],
   "source": [
    "clean_text(train_data)"
   ]
  },
  {
   "cell_type": "code",
   "execution_count": 24,
   "metadata": {
    "id": "RiUq1VN3lKAN"
   },
   "outputs": [],
   "source": [
    "clean_text(test_data)"
   ]
  },
  {
   "cell_type": "markdown",
   "metadata": {
    "id": "n2PDmFHNij40"
   },
   "source": [
    "#### Train/Test Splitting"
   ]
  },
  {
   "cell_type": "code",
   "execution_count": 25,
   "metadata": {
    "id": "v-_x78v_l3ul"
   },
   "outputs": [],
   "source": [
    "# Seperate features and tagret variables\n",
    "X = train_data['text']\n",
    "y = train_data['lang_id']"
   ]
  },
  {
   "cell_type": "code",
   "execution_count": 26,
   "metadata": {
    "id": "NxY1xaELij41"
   },
   "outputs": [],
   "source": [
    "x_train, x_test, y_train, y_test = train_test_split(X, y, test_size=0.20)"
   ]
  },
  {
   "cell_type": "markdown",
   "metadata": {
    "id": "CYLrkZs0ij41"
   },
   "source": [
    "#### Model Training"
   ]
  },
  {
   "cell_type": "code",
   "execution_count": 27,
   "metadata": {
    "id": "IYYw-3asm6XV"
   },
   "outputs": [],
   "source": [
    "clfs = [RandomForestClassifier(max_depth=5, n_estimators=100), KNeighborsClassifier(n_neighbors=5, \n",
    "                                             metric='minkowski', \n",
    "                                             p=2),\n",
    "              MultinomialNB(), LinearSVC(class_weight='balanced')]"
   ]
  },
  {
   "cell_type": "code",
   "execution_count": 28,
   "metadata": {
    "id": "Y0qalEV8oAB9"
   },
   "outputs": [],
   "source": [
    "def trainer(clfs, x_train, x_test, y_train, y_test):\n",
    "    score_results = {}\n",
    "    # Pipeline to balance the classses and then to build the model\n",
    "    for clf in clfs:\n",
    "        piper = Pipeline([('tfidf', TfidfVectorizer(ngram_range=(2, 3))),\n",
    "                              ('clf', clf)])\n",
    "        \n",
    "        piper.fit(x_train, y_train)\n",
    "        predictions = piper.predict(x_test)\n",
    "\n",
    "        # Output for each model\n",
    "        score_results[clf.__class__.__name__] = {\n",
    "            'F1-Macro': metrics.f1_score(y_test,\n",
    "                                         predictions,\n",
    "                                         average='macro'),\n",
    "            'F1-Accuracy': metrics.f1_score(y_test, predictions,\n",
    "                                            average='micro'),\n",
    "            'F1-Weighted': metrics.f1_score(y_test,\n",
    "                                            predictions,\n",
    "                                            average='weighted')}\n",
    "\n",
    "    return pd.DataFrame.from_dict(score_results, orient='index')"
   ]
  },
  {
   "cell_type": "markdown",
   "metadata": {
    "id": "oMgIQzmLqdQ1"
   },
   "source": [
    "##Model performance"
   ]
  },
  {
   "cell_type": "code",
   "execution_count": 29,
   "metadata": {
    "colab": {
     "base_uri": "https://localhost:8080/",
     "height": 173
    },
    "id": "Jl0OUdtDqg_P",
    "outputId": "56aec03f-856f-4ee6-d757-0bb33c0db9e3"
   },
   "outputs": [
    {
     "data": {
      "text/html": [
       "<div>\n",
       "<style scoped>\n",
       "    .dataframe tbody tr th:only-of-type {\n",
       "        vertical-align: middle;\n",
       "    }\n",
       "\n",
       "    .dataframe tbody tr th {\n",
       "        vertical-align: top;\n",
       "    }\n",
       "\n",
       "    .dataframe thead th {\n",
       "        text-align: right;\n",
       "    }\n",
       "</style>\n",
       "<table border=\"1\" class=\"dataframe\">\n",
       "  <thead>\n",
       "    <tr style=\"text-align: right;\">\n",
       "      <th></th>\n",
       "      <th>F1-Macro</th>\n",
       "      <th>F1-Accuracy</th>\n",
       "      <th>F1-Weighted</th>\n",
       "    </tr>\n",
       "  </thead>\n",
       "  <tbody>\n",
       "    <tr>\n",
       "      <th>LinearSVC</th>\n",
       "      <td>0.960247</td>\n",
       "      <td>0.959545</td>\n",
       "      <td>0.960155</td>\n",
       "    </tr>\n",
       "    <tr>\n",
       "      <th>MultinomialNB</th>\n",
       "      <td>0.956147</td>\n",
       "      <td>0.956667</td>\n",
       "      <td>0.956705</td>\n",
       "    </tr>\n",
       "    <tr>\n",
       "      <th>KNeighborsClassifier</th>\n",
       "      <td>0.923102</td>\n",
       "      <td>0.921212</td>\n",
       "      <td>0.922910</td>\n",
       "    </tr>\n",
       "    <tr>\n",
       "      <th>RandomForestClassifier</th>\n",
       "      <td>0.566480</td>\n",
       "      <td>0.572273</td>\n",
       "      <td>0.564980</td>\n",
       "    </tr>\n",
       "  </tbody>\n",
       "</table>\n",
       "</div>"
      ],
      "text/plain": [
       "                        F1-Macro  F1-Accuracy  F1-Weighted\n",
       "LinearSVC               0.960247     0.959545     0.960155\n",
       "MultinomialNB           0.956147     0.956667     0.956705\n",
       "KNeighborsClassifier    0.923102     0.921212     0.922910\n",
       "RandomForestClassifier  0.566480     0.572273     0.564980"
      ]
     },
     "execution_count": 29,
     "metadata": {},
     "output_type": "execute_result"
    }
   ],
   "source": [
    "clfs_df = trainer(clfs, x_train, x_test, y_train, y_test)\n",
    "cfl_df = clfs_df.sort_values('F1-Macro', ascending=False)\n",
    "cfl_df"
   ]
  },
  {
   "cell_type": "markdown",
   "metadata": {
    "id": "xtOgxz59ij42"
   },
   "source": [
    "#### Predict the output and submission"
   ]
  },
  {
   "cell_type": "code",
   "execution_count": 30,
   "metadata": {
    "id": "_9YnetFeij43"
   },
   "outputs": [],
   "source": [
    "mnb = Pipeline([('tfidf', TfidfVectorizer()), ('clf', MultinomialNB())])\n",
    "classifier = mnb.fit(x_train, y_train)\n",
    "y_pred = classifier.predict(test_data['text'])\n",
    "\n",
    "submission=pd.DataFrame(data={'index':test_data['index'],'lang_id':y_pred})\n",
    "submission.to_csv('Invincible_guy_Classification_Hackathon',index=False)"
   ]
  },
  {
   "cell_type": "code",
   "execution_count": 31,
   "metadata": {
    "colab": {
     "base_uri": "https://localhost:8080/",
     "height": 669
    },
    "id": "iGOkxkNvu8z_",
    "outputId": "3031e586-815f-4bb4-a9f6-883ced4874c3"
   },
   "outputs": [
    {
     "data": {
      "text/html": [
       "<div>\n",
       "<style scoped>\n",
       "    .dataframe tbody tr th:only-of-type {\n",
       "        vertical-align: middle;\n",
       "    }\n",
       "\n",
       "    .dataframe tbody tr th {\n",
       "        vertical-align: top;\n",
       "    }\n",
       "\n",
       "    .dataframe thead th {\n",
       "        text-align: right;\n",
       "    }\n",
       "</style>\n",
       "<table border=\"1\" class=\"dataframe\">\n",
       "  <thead>\n",
       "    <tr style=\"text-align: right;\">\n",
       "      <th></th>\n",
       "      <th>index</th>\n",
       "      <th>lang_id</th>\n",
       "    </tr>\n",
       "  </thead>\n",
       "  <tbody>\n",
       "    <tr>\n",
       "      <th>0</th>\n",
       "      <td>1</td>\n",
       "      <td>tsn</td>\n",
       "    </tr>\n",
       "    <tr>\n",
       "      <th>1</th>\n",
       "      <td>2</td>\n",
       "      <td>nbl</td>\n",
       "    </tr>\n",
       "    <tr>\n",
       "      <th>2</th>\n",
       "      <td>3</td>\n",
       "      <td>ven</td>\n",
       "    </tr>\n",
       "    <tr>\n",
       "      <th>3</th>\n",
       "      <td>4</td>\n",
       "      <td>ssw</td>\n",
       "    </tr>\n",
       "    <tr>\n",
       "      <th>4</th>\n",
       "      <td>5</td>\n",
       "      <td>afr</td>\n",
       "    </tr>\n",
       "    <tr>\n",
       "      <th>5</th>\n",
       "      <td>6</td>\n",
       "      <td>nso</td>\n",
       "    </tr>\n",
       "    <tr>\n",
       "      <th>6</th>\n",
       "      <td>7</td>\n",
       "      <td>eng</td>\n",
       "    </tr>\n",
       "    <tr>\n",
       "      <th>7</th>\n",
       "      <td>8</td>\n",
       "      <td>sot</td>\n",
       "    </tr>\n",
       "    <tr>\n",
       "      <th>8</th>\n",
       "      <td>9</td>\n",
       "      <td>zul</td>\n",
       "    </tr>\n",
       "    <tr>\n",
       "      <th>9</th>\n",
       "      <td>10</td>\n",
       "      <td>eng</td>\n",
       "    </tr>\n",
       "    <tr>\n",
       "      <th>10</th>\n",
       "      <td>11</td>\n",
       "      <td>nso</td>\n",
       "    </tr>\n",
       "    <tr>\n",
       "      <th>11</th>\n",
       "      <td>12</td>\n",
       "      <td>tso</td>\n",
       "    </tr>\n",
       "    <tr>\n",
       "      <th>12</th>\n",
       "      <td>13</td>\n",
       "      <td>tsn</td>\n",
       "    </tr>\n",
       "    <tr>\n",
       "      <th>13</th>\n",
       "      <td>14</td>\n",
       "      <td>sot</td>\n",
       "    </tr>\n",
       "    <tr>\n",
       "      <th>14</th>\n",
       "      <td>15</td>\n",
       "      <td>tso</td>\n",
       "    </tr>\n",
       "    <tr>\n",
       "      <th>15</th>\n",
       "      <td>16</td>\n",
       "      <td>xho</td>\n",
       "    </tr>\n",
       "    <tr>\n",
       "      <th>16</th>\n",
       "      <td>17</td>\n",
       "      <td>xho</td>\n",
       "    </tr>\n",
       "    <tr>\n",
       "      <th>17</th>\n",
       "      <td>18</td>\n",
       "      <td>ssw</td>\n",
       "    </tr>\n",
       "    <tr>\n",
       "      <th>18</th>\n",
       "      <td>19</td>\n",
       "      <td>afr</td>\n",
       "    </tr>\n",
       "    <tr>\n",
       "      <th>19</th>\n",
       "      <td>20</td>\n",
       "      <td>ven</td>\n",
       "    </tr>\n",
       "  </tbody>\n",
       "</table>\n",
       "</div>"
      ],
      "text/plain": [
       "    index lang_id\n",
       "0       1     tsn\n",
       "1       2     nbl\n",
       "2       3     ven\n",
       "3       4     ssw\n",
       "4       5     afr\n",
       "5       6     nso\n",
       "6       7     eng\n",
       "7       8     sot\n",
       "8       9     zul\n",
       "9      10     eng\n",
       "10     11     nso\n",
       "11     12     tso\n",
       "12     13     tsn\n",
       "13     14     sot\n",
       "14     15     tso\n",
       "15     16     xho\n",
       "16     17     xho\n",
       "17     18     ssw\n",
       "18     19     afr\n",
       "19     20     ven"
      ]
     },
     "execution_count": 31,
     "metadata": {},
     "output_type": "execute_result"
    }
   ],
   "source": [
    "submission.head(20)"
   ]
  }
 ],
 "metadata": {
  "colab": {
   "name": "Language Identification Hackathon.ipynb",
   "provenance": []
  },
  "kernelspec": {
   "display_name": "Python 3",
   "language": "python",
   "name": "python3"
  },
  "language_info": {
   "codemirror_mode": {
    "name": "ipython",
    "version": 3
   },
   "file_extension": ".py",
   "mimetype": "text/x-python",
   "name": "python",
   "nbconvert_exporter": "python",
   "pygments_lexer": "ipython3",
   "version": "3.8.5"
  }
 },
 "nbformat": 4,
 "nbformat_minor": 1
}
